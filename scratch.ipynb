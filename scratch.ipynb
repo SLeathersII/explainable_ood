{
 "cells": [
  {
   "metadata": {
    "ExecuteTime": {
     "end_time": "2025-10-05T20:43:45.112364Z",
     "start_time": "2025-10-05T20:43:43.463527Z"
    }
   },
   "cell_type": "code",
   "source": [
    "import matplotlib.pyplot as plt\n",
    "import numpy as np\n",
    "import torch\n",
    "from torch import nn\n",
    "import torch.optim as optim\n",
    "import torchvision\n",
    "import torchvision.transforms as transforms\n",
    "from torch.utils.data import DataLoader\n",
    "import torchvision.transforms.functional as TF\n",
    "import torch.nn.functional as F\n",
    "from torchvision import models\n",
    "from captum.attr import IntegratedGradients\n",
    "from captum.attr import Saliency\n",
    "from captum.attr import DeepLift\n",
    "from captum.attr import NoiseTunnel\n",
    "from captum.attr import visualization as viz\n",
    "\n",
    "%matplotlib inline\n",
    "%load_ext autoreload\n",
    "%autoreload 2"
   ],
   "id": "1f7c81f0ccff9795",
   "outputs": [
    {
     "name": "stderr",
     "output_type": "stream",
     "text": [
      "/home/sleathers/anaconda3/envs/explainable_ood/lib/python3.12/site-packages/tqdm/auto.py:21: TqdmWarning: IProgress not found. Please update jupyter and ipywidgets. See https://ipywidgets.readthedocs.io/en/stable/user_install.html\n",
      "  from .autonotebook import tqdm as notebook_tqdm\n"
     ]
    }
   ],
   "execution_count": 1
  },
  {
   "metadata": {
    "ExecuteTime": {
     "end_time": "2025-10-05T20:43:47.288517Z",
     "start_time": "2025-10-05T20:43:46.641209Z"
    }
   },
   "cell_type": "code",
   "source": [
    "transform = transforms.Compose([\n",
    "    transforms.ToTensor(),\n",
    "    transforms.Normalize((0.5, 0.5, 0.5), (0.5, 0.5, 0.5)) # Normalize image pixel values\n",
    "])\n",
    "train_dataset = torchvision.datasets.CIFAR10(root='/data', train=True, download=False, transform=transform)\n",
    "test_dataset = torchvision.datasets.CIFAR10(root='/data', train=False, download=False, transform=transform)\n",
    "\n",
    "batch_size = 125\n",
    "train_loader = DataLoader(train_dataset, batch_size=batch_size, shuffle=False, num_workers=2)\n",
    "test_loader = DataLoader(test_dataset, batch_size=batch_size, shuffle=False, num_workers=2)\n",
    "\n",
    "classes = ('plane', 'car', 'bird', 'cat',\n",
    "           'deer', 'dog', 'frog', 'horse', 'ship', 'truck')"
   ],
   "id": "b3eb229a242f4f93",
   "outputs": [],
   "execution_count": 2
  },
  {
   "metadata": {
    "ExecuteTime": {
     "end_time": "2025-10-05T20:43:48.428861Z",
     "start_time": "2025-10-05T20:43:48.227935Z"
    }
   },
   "cell_type": "code",
   "source": [
    "class SimpleCNN(nn.Module):\n",
    "    def __init__(self, num_classes=100):\n",
    "        super(SimpleCNN, self).__init__()\n",
    "        self.features = nn.Sequential(\n",
    "            nn.Conv2d(3, 64, kernel_size=3, padding=1),\n",
    "            nn.ReLU(),\n",
    "            nn.MaxPool2d(kernel_size=2, stride=2),\n",
    "\n",
    "            nn.Conv2d(64, 128, kernel_size=3, padding=1),\n",
    "            nn.ReLU(),\n",
    "            nn.MaxPool2d(kernel_size=2, stride=2),\n",
    "\n",
    "            nn.Conv2d(128, 256, kernel_size=3, padding=1),\n",
    "            nn.ReLU(),\n",
    "            nn.MaxPool2d(kernel_size=2, stride=2)\n",
    "        )\n",
    "        self.classifier = nn.Sequential(\n",
    "            nn.Flatten(), # Flatten the output of convolutional layers\n",
    "            nn.Linear(256 * 4 * 4, 512), # Adjust input features based on image size and pooling\n",
    "            nn.ReLU(),\n",
    "            nn.Linear(512, num_classes)\n",
    "        )\n",
    "\n",
    "    def forward(self, x):\n",
    "        x = self.features(x)\n",
    "        x = self.classifier(x)\n",
    "        return x\n",
    "\n",
    "device = torch.device('cuda' if torch.cuda.is_available() else 'cpu')\n",
    "print(f\"Using device: {device}\")\n",
    "# Instantiate the model\n",
    "net = SimpleCNN(num_classes=10)\n",
    "net.to(device)"
   ],
   "id": "e8fd71d9b5c22de9",
   "outputs": [
    {
     "name": "stdout",
     "output_type": "stream",
     "text": [
      "Using device: cuda\n"
     ]
    },
    {
     "data": {
      "text/plain": [
       "SimpleCNN(\n",
       "  (features): Sequential(\n",
       "    (0): Conv2d(3, 64, kernel_size=(3, 3), stride=(1, 1), padding=(1, 1))\n",
       "    (1): ReLU()\n",
       "    (2): MaxPool2d(kernel_size=2, stride=2, padding=0, dilation=1, ceil_mode=False)\n",
       "    (3): Conv2d(64, 128, kernel_size=(3, 3), stride=(1, 1), padding=(1, 1))\n",
       "    (4): ReLU()\n",
       "    (5): MaxPool2d(kernel_size=2, stride=2, padding=0, dilation=1, ceil_mode=False)\n",
       "    (6): Conv2d(128, 256, kernel_size=(3, 3), stride=(1, 1), padding=(1, 1))\n",
       "    (7): ReLU()\n",
       "    (8): MaxPool2d(kernel_size=2, stride=2, padding=0, dilation=1, ceil_mode=False)\n",
       "  )\n",
       "  (classifier): Sequential(\n",
       "    (0): Flatten(start_dim=1, end_dim=-1)\n",
       "    (1): Linear(in_features=4096, out_features=512, bias=True)\n",
       "    (2): ReLU()\n",
       "    (3): Linear(in_features=512, out_features=10, bias=True)\n",
       "  )\n",
       ")"
      ]
     },
     "execution_count": 3,
     "metadata": {},
     "output_type": "execute_result"
    }
   ],
   "execution_count": 3
  },
  {
   "metadata": {
    "ExecuteTime": {
     "end_time": "2025-10-05T19:37:48.834519Z",
     "start_time": "2025-10-05T19:37:48.820222Z"
    }
   },
   "cell_type": "code",
   "source": [
    "criterion = nn.CrossEntropyLoss()\n",
    "optimizer = optim.SGD(net.parameters(), lr=0.001, momentum=0.9)"
   ],
   "id": "e2ef18eefbb8d7b9",
   "outputs": [],
   "execution_count": 4
  },
  {
   "metadata": {
    "ExecuteTime": {
     "end_time": "2025-10-05T19:37:48.864800Z",
     "start_time": "2025-10-05T19:37:48.863202Z"
    }
   },
   "cell_type": "code",
   "source": "",
   "id": "baec21c8064ac479",
   "outputs": [],
   "execution_count": null
  },
  {
   "metadata": {
    "ExecuteTime": {
     "end_time": "2025-10-05T19:40:15.097475Z",
     "start_time": "2025-10-05T19:37:48.907763Z"
    }
   },
   "cell_type": "code",
   "source": [
    "for epoch in range(50):  # loop over the dataset multiple times\n",
    "    running_loss = 0.0\n",
    "    running_accuracy = 0.0\n",
    "    num_batches = len(train_loader)\n",
    "    for i, data in enumerate(train_loader, start=1):\n",
    "        # get the inputs\n",
    "        inputs, labels = data\n",
    "        inputs, labels = inputs.to(device), labels.to(device)\n",
    "        # zero the parameter gradients\n",
    "        optimizer.zero_grad()\n",
    "\n",
    "        # forward + backward + optimize\n",
    "        outputs = net(inputs)\n",
    "        loss = criterion(outputs, labels)\n",
    "        loss.backward()\n",
    "        optimizer.step()\n",
    "\n",
    "        # print statistics\n",
    "        running_loss += loss.item()\n",
    "        running_accuracy += (outputs.argmax(dim=1) == labels).float().mean().item()\n",
    "        #print(i)\n",
    "        if i % num_batches == 0:    # print every check mini-batches\n",
    "            print(f'Epoch: {epoch}\\nLoss: {running_loss / num_batches:.4f}\\nAccuracy: {running_accuracy / num_batches * 100:.2f}%\\n----------------')\n",
    "            running_loss = 0.0\n",
    "            running_accuracy = 0.0\n",
    "\n",
    "print('Finished Training')\n",
    "torch.save(net.state_dict(), '/models/cifar_torchvision.pt')"
   ],
   "id": "a87babdadba787",
   "outputs": [
    {
     "name": "stdout",
     "output_type": "stream",
     "text": [
      "Epoch: 0\n",
      "Loss: 2.2792\n",
      "Accuracy: 14.85\n",
      "---------------\n",
      "Epoch: 1\n",
      "Loss: 2.0680\n",
      "Accuracy: 26.72\n",
      "---------------\n",
      "Epoch: 2\n",
      "Loss: 1.8469\n",
      "Accuracy: 34.02\n",
      "---------------\n",
      "Epoch: 3\n",
      "Loss: 1.6748\n",
      "Accuracy: 39.85\n",
      "---------------\n",
      "Epoch: 4\n",
      "Loss: 1.5541\n",
      "Accuracy: 43.77\n",
      "---------------\n",
      "Epoch: 5\n",
      "Loss: 1.4746\n",
      "Accuracy: 46.66\n",
      "---------------\n",
      "Epoch: 6\n",
      "Loss: 1.4131\n",
      "Accuracy: 48.86\n",
      "---------------\n",
      "Epoch: 7\n",
      "Loss: 1.3619\n",
      "Accuracy: 50.81\n",
      "---------------\n",
      "Epoch: 8\n",
      "Loss: 1.3151\n",
      "Accuracy: 52.65\n",
      "---------------\n",
      "Epoch: 9\n",
      "Loss: 1.2709\n",
      "Accuracy: 54.54\n",
      "---------------\n",
      "Epoch: 10\n",
      "Loss: 1.2290\n",
      "Accuracy: 56.24\n",
      "---------------\n",
      "Epoch: 11\n",
      "Loss: 1.1885\n",
      "Accuracy: 57.73\n",
      "---------------\n",
      "Epoch: 12\n",
      "Loss: 1.1499\n",
      "Accuracy: 59.18\n",
      "---------------\n",
      "Epoch: 13\n",
      "Loss: 1.1128\n",
      "Accuracy: 60.67\n",
      "---------------\n",
      "Epoch: 14\n",
      "Loss: 1.0779\n",
      "Accuracy: 61.95\n",
      "---------------\n",
      "Epoch: 15\n",
      "Loss: 1.0447\n",
      "Accuracy: 63.17\n",
      "---------------\n",
      "Epoch: 16\n",
      "Loss: 1.0130\n",
      "Accuracy: 64.41\n",
      "---------------\n",
      "Epoch: 17\n",
      "Loss: 0.9827\n",
      "Accuracy: 65.52\n",
      "---------------\n",
      "Epoch: 18\n",
      "Loss: 0.9538\n",
      "Accuracy: 66.65\n",
      "---------------\n",
      "Epoch: 19\n",
      "Loss: 0.9260\n",
      "Accuracy: 67.60\n",
      "---------------\n",
      "Epoch: 20\n",
      "Loss: 0.8990\n",
      "Accuracy: 68.59\n",
      "---------------\n",
      "Epoch: 21\n",
      "Loss: 0.8729\n",
      "Accuracy: 69.63\n",
      "---------------\n",
      "Epoch: 22\n",
      "Loss: 0.8475\n",
      "Accuracy: 70.57\n",
      "---------------\n",
      "Epoch: 23\n",
      "Loss: 0.8228\n",
      "Accuracy: 71.51\n",
      "---------------\n",
      "Epoch: 24\n",
      "Loss: 0.7986\n",
      "Accuracy: 72.37\n",
      "---------------\n",
      "Epoch: 25\n",
      "Loss: 0.7746\n",
      "Accuracy: 73.33\n",
      "---------------\n",
      "Epoch: 26\n",
      "Loss: 0.7511\n",
      "Accuracy: 74.12\n",
      "---------------\n",
      "Epoch: 27\n",
      "Loss: 0.7279\n",
      "Accuracy: 75.05\n",
      "---------------\n",
      "Epoch: 28\n",
      "Loss: 0.7050\n",
      "Accuracy: 75.86\n",
      "---------------\n",
      "Epoch: 29\n",
      "Loss: 0.6828\n",
      "Accuracy: 76.65\n",
      "---------------\n",
      "Epoch: 30\n",
      "Loss: 0.6598\n",
      "Accuracy: 77.42\n",
      "---------------\n",
      "Epoch: 31\n",
      "Loss: 0.6372\n",
      "Accuracy: 78.24\n",
      "---------------\n",
      "Epoch: 32\n",
      "Loss: 0.6149\n",
      "Accuracy: 79.05\n",
      "---------------\n",
      "Epoch: 33\n",
      "Loss: 0.5929\n",
      "Accuracy: 79.87\n",
      "---------------\n",
      "Epoch: 34\n",
      "Loss: 0.5709\n",
      "Accuracy: 80.67\n",
      "---------------\n",
      "Epoch: 35\n",
      "Loss: 0.5484\n",
      "Accuracy: 81.43\n",
      "---------------\n",
      "Epoch: 36\n",
      "Loss: 0.5264\n",
      "Accuracy: 82.25\n",
      "---------------\n",
      "Epoch: 37\n",
      "Loss: 0.5039\n",
      "Accuracy: 83.15\n",
      "---------------\n",
      "Epoch: 38\n",
      "Loss: 0.4815\n",
      "Accuracy: 84.04\n",
      "---------------\n",
      "Epoch: 39\n",
      "Loss: 0.4597\n",
      "Accuracy: 84.93\n",
      "---------------\n",
      "Epoch: 40\n",
      "Loss: 0.4383\n",
      "Accuracy: 85.80\n",
      "---------------\n",
      "Epoch: 41\n",
      "Loss: 0.4174\n",
      "Accuracy: 86.54\n",
      "---------------\n",
      "Epoch: 42\n",
      "Loss: 0.3975\n",
      "Accuracy: 87.25\n",
      "---------------\n",
      "Epoch: 43\n",
      "Loss: 0.3798\n",
      "Accuracy: 87.74\n",
      "---------------\n",
      "Epoch: 44\n",
      "Loss: 0.3681\n",
      "Accuracy: 88.14\n",
      "---------------\n",
      "Epoch: 45\n",
      "Loss: 0.3632\n",
      "Accuracy: 88.11\n",
      "---------------\n",
      "Epoch: 46\n",
      "Loss: 0.3580\n",
      "Accuracy: 87.99\n",
      "---------------\n",
      "Epoch: 47\n",
      "Loss: 0.3532\n",
      "Accuracy: 88.07\n",
      "---------------\n",
      "Epoch: 48\n",
      "Loss: 0.3384\n",
      "Accuracy: 88.52\n",
      "---------------\n",
      "Epoch: 49\n",
      "Loss: 0.3171\n",
      "Accuracy: 89.35\n",
      "---------------\n",
      "Finished Training\n"
     ]
    }
   ],
   "execution_count": 5
  },
  {
   "metadata": {
    "ExecuteTime": {
     "end_time": "2025-10-05T19:45:53.326142Z",
     "start_time": "2025-10-05T19:45:53.138877Z"
    }
   },
   "cell_type": "code",
   "source": [
    "def imshow(img):\n",
    "    img = img / 2 + 0.5     # unnormalize\n",
    "    npimg = img.numpy()\n",
    "    plt.imshow(np.transpose(npimg, (1, 2, 0)))\n",
    "    plt.show()\n",
    "\n",
    "dataiter = iter(test_loader)\n",
    "images, labels = dataiter.__next__()\n",
    "images, labels = images[0:4], labels[0:4]\n",
    "\n",
    "# print images\n",
    "imshow(torchvision.utils.make_grid(images))\n",
    "print('GroundTruth: ', ' '.join('%5s' % classes[labels[j]] for j in range(4)))\n",
    "\n",
    "\n",
    "outputs = net(images.to(device))\n",
    "\n",
    "_, predicted = torch.max(outputs, 1)\n",
    "\n",
    "print('Predicted: ', ' '.join('%5s' % classes[predicted[j]]\n",
    "                              for j in range(4)))"
   ],
   "id": "f8e3cbf5fa40b789",
   "outputs": [
    {
     "data": {
      "text/plain": [
       "<Figure size 640x480 with 1 Axes>"
      ],
      "image/png": "[encoded data removed]"
     },
     "metadata": {},
     "output_type": "display_data",
     "jetTransient": {
      "display_id": null
     }
    },
    {
     "name": "stdout",
     "output_type": "stream",
     "text": [
      "GroundTruth:    cat  ship  ship plane\n",
      "Predicted:    cat  ship  ship plane\n"
     ]
    }
   ],
   "execution_count": 16
  },
  {
   "metadata": {
    "ExecuteTime": {
     "end_time": "2025-10-05T19:46:55.604122Z",
     "start_time": "2025-10-05T19:46:55.578806Z"
    }
   },
   "cell_type": "code",
   "source": [
    "ind = 3\n",
    "\n",
    "input = images[ind].unsqueeze(0)\n",
    "input.requires_grad = True"
   ],
   "id": "27899f098ea9a28",
   "outputs": [],
   "execution_count": 17
  },
  {
   "metadata": {
    "ExecuteTime": {
     "end_time": "2025-10-05T19:47:04.429206Z",
     "start_time": "2025-10-05T19:47:04.415078Z"
    }
   },
   "cell_type": "code",
   "source": "net.eval()",
   "id": "ffe3bb1c4797c195",
   "outputs": [
    {
     "data": {
      "text/plain": [
       "SimpleCNN(\n",
       "  (features): Sequential(\n",
       "    (0): Conv2d(3, 64, kernel_size=(3, 3), stride=(1, 1), padding=(1, 1))\n",
       "    (1): ReLU()\n",
       "    (2): MaxPool2d(kernel_size=2, stride=2, padding=0, dilation=1, ceil_mode=False)\n",
       "    (3): Conv2d(64, 128, kernel_size=(3, 3), stride=(1, 1), padding=(1, 1))\n",
       "    (4): ReLU()\n",
       "    (5): MaxPool2d(kernel_size=2, stride=2, padding=0, dilation=1, ceil_mode=False)\n",
       "    (6): Conv2d(128, 256, kernel_size=(3, 3), stride=(1, 1), padding=(1, 1))\n",
       "    (7): ReLU()\n",
       "    (8): MaxPool2d(kernel_size=2, stride=2, padding=0, dilation=1, ceil_mode=False)\n",
       "  )\n",
       "  (classifier): Sequential(\n",
       "    (0): Flatten(start_dim=1, end_dim=-1)\n",
       "    (1): Linear(in_features=4096, out_features=512, bias=True)\n",
       "    (2): ReLU()\n",
       "    (3): Linear(in_features=512, out_features=10, bias=True)\n",
       "  )\n",
       ")"
      ]
     },
     "execution_count": 18,
     "metadata": {},
     "output_type": "execute_result"
    }
   ],
   "execution_count": 18
  },
  {
   "metadata": {
    "ExecuteTime": {
     "end_time": "2025-10-05T19:47:17.638362Z",
     "start_time": "2025-10-05T19:47:17.623980Z"
    }
   },
   "cell_type": "code",
   "source": [
    "def attribute_image_features(algorithm, input, **kwargs):\n",
    "    net.zero_grad()\n",
    "    tensor_attributions = algorithm.attribute(input,\n",
    "                                              target=labels[ind],\n",
    "                                              **kwargs\n",
    "                                             )\n",
    "\n",
    "    return tensor_attributions"
   ],
   "id": "1f4e8e8791af893",
   "outputs": [],
   "execution_count": 19
  },
  {
   "metadata": {},
   "cell_type": "markdown",
   "source": "Computes gradients with respect to class ind and transposes them for visualization purposes.",
   "id": "1a12c4774c5e54d6"
  },
  {
   "metadata": {
    "ExecuteTime": {
     "end_time": "2025-10-05T19:48:17.145716Z",
     "start_time": "2025-10-05T19:48:17.088149Z"
    }
   },
   "cell_type": "code",
   "source": [
    "saliency = Saliency(net)\n",
    "grads = saliency.attribute(input.to(device), target=labels[ind].item())\n",
    "grads = np.transpose(grads.squeeze().cpu().detach().numpy(), (1, 2, 0))"
   ],
   "id": "e0edd9e0752c10cb",
   "outputs": [],
   "execution_count": 21
  },
  {
   "metadata": {},
   "cell_type": "markdown",
   "source": "Applies integrated gradients attribution algorithm on test image. Integrated Gradients computes the integral of the gradients of the output prediction for the class index ind with respect to the input image pixels. More details about integrated gradients can be found in the original paper: https://arxiv.org/abs/1703.01365",
   "id": "80b4b043c047f846"
  },
  {
   "metadata": {
    "ExecuteTime": {
     "end_time": "2025-10-05T19:50:42.295996Z",
     "start_time": "2025-10-05T19:50:42.199793Z"
    }
   },
   "cell_type": "code",
   "source": [
    "ig = IntegratedGradients(net)\n",
    "attr_ig, delta = attribute_image_features(ig, input.to(device), baselines=(input * 0).to(device), return_convergence_delta=True)\n",
    "attr_ig = np.transpose(attr_ig.squeeze().cpu().detach().numpy(), (1, 2, 0))\n",
    "print('Approximation delta: ', abs(delta))"
   ],
   "id": "4dab90914119a19d",
   "outputs": [
    {
     "name": "stdout",
     "output_type": "stream",
     "text": [
      "Approximation delta:  tensor([0.0439], device='cuda:0', dtype=torch.float64)\n"
     ]
    }
   ],
   "execution_count": 24
  },
  {
   "metadata": {},
   "cell_type": "markdown",
   "source": "Below we demonstrate how to use integrated gradients and noise tunnel with smoothgrad square option on the test image. Noise tunnel with smoothgrad square option adds gaussian noise with a standard deviation of stdevs=0.2 to the input image nt_samples times, computes the attributions for nt_samples images and returns the mean of the squared attributions across nt_samples images.",
   "id": "1cd596f3b998a130"
  },
  {
   "metadata": {
    "ExecuteTime": {
     "end_time": "2025-10-05T19:53:06.154519Z",
     "start_time": "2025-10-05T19:53:05.776151Z"
    }
   },
   "cell_type": "code",
   "source": [
    "ig = IntegratedGradients(net)\n",
    "nt = NoiseTunnel(ig)\n",
    "attr_ig_nt = attribute_image_features(nt, input.to(device), baselines=(input * 0).to(device), nt_type='smoothgrad_sq',\n",
    "                                      nt_samples=100, stdevs=0.2)\n",
    "attr_ig_nt = np.transpose(attr_ig_nt.squeeze(0).cpu().detach().numpy(), (1, 2, 0))"
   ],
   "id": "c78670b382a8d58f",
   "outputs": [],
   "execution_count": 26
  },
  {
   "metadata": {},
   "cell_type": "markdown",
   "source": "Applies DeepLift on test image. Deeplift assigns attributions to each input pixel by looking at the differences of output and its reference in terms of the differences of the input from the reference.",
   "id": "e831a5097162ce33"
  },
  {
   "metadata": {
    "ExecuteTime": {
     "end_time": "2025-10-05T19:53:56.813603Z",
     "start_time": "2025-10-05T19:53:56.757266Z"
    }
   },
   "cell_type": "code",
   "source": [
    "dl = DeepLift(net)\n",
    "attr_dl = attribute_image_features(dl, input.to(device), baselines=(input * 0).to(device))\n",
    "attr_dl = np.transpose(attr_dl.squeeze(0).cpu().detach().numpy(), (1, 2, 0))"
   ],
   "id": "f60dc1d911212396",
   "outputs": [
    {
     "name": "stderr",
     "output_type": "stream",
     "text": [
      "/home/sleathers/anaconda3/envs/explainable_ood/lib/python3.12/site-packages/captum/attr/_core/deep_lift.py:304: UserWarning: Setting forward, backward hooks and attributes on non-linear\n",
      "               activations. The hooks and attributes will be removed\n",
      "            after the attribution is finished\n",
      "  warnings.warn(\n"
     ]
    }
   ],
   "execution_count": 27
  },
  {
   "metadata": {
    "ExecuteTime": {
     "end_time": "2025-10-05T19:56:34.519671Z",
     "start_time": "2025-10-05T19:56:34.067222Z"
    }
   },
   "cell_type": "code",
   "source": [
    "print('Original Image')\n",
    "print('Predicted:', classes[predicted[ind]],\n",
    "      ' Probability:', torch.max(F.softmax(outputs, 1)).item())\n",
    "\n",
    "original_image = np.transpose((images[ind].cpu().detach().numpy() / 2) + 0.5, (1, 2, 0))\n",
    "\n",
    "_ = viz.visualize_image_attr(None, original_image,\n",
    "                      method=\"original_image\", title=\"Original Image\")\n",
    "\n",
    "_ = viz.visualize_image_attr(grads, original_image, method=\"blended_heat_map\", sign=\"absolute_value\",\n",
    "                          show_colorbar=True, title=\"Overlayed Gradient Magnitudes\")\n",
    "\n",
    "_ = viz.visualize_image_attr(attr_ig, original_image, method=\"blended_heat_map\",sign=\"all\",\n",
    "                          show_colorbar=True, title=\"Overlayed Integrated Gradients\")\n",
    "\n",
    "_ = viz.visualize_image_attr(attr_ig_nt, original_image, method=\"blended_heat_map\", sign=\"absolute_value\",\n",
    "                             outlier_perc=10, show_colorbar=True,\n",
    "                             title=\"Overlayed Integrated Gradients \\n with SmoothGrad Squared\")\n",
    "\n",
    "_ = viz.visualize_image_attr(attr_dl, original_image, method=\"blended_heat_map\",sign=\"all\",show_colorbar=True,\n",
    "                          title=\"Overlayed DeepLift\")"
   ],
   "id": "9bd2ec05d47e0ac5",
   "outputs": [
    {
     "name": "stdout",
     "output_type": "stream",
     "text": [
      "Original Image\n",
      "Predicted: plane  Probability: 0.9536359310150146\n"
     ]
    },
    {
     "data": {
      "text/plain": [
       "<Figure size 600x600 with 1 Axes>"
      ],
      "image/png": "[encoded data removed]"
     },
     "metadata": {},
     "output_type": "display_data",
     "jetTransient": {
      "display_id": null
     }
    },
    {
     "data": {
      "text/plain": [
       "<Figure size 600x600 with 2 Axes>"
      ],
      "image/png": "[encoded data removed]"
     },
     "metadata": {},
     "output_type": "display_data",
     "jetTransient": {
      "display_id": null
     }
    },
    {
     "data": {
      "text/plain": [
       "<Figure size 600x600 with 2 Axes>"
      ],
      "image/png": "[encoded data removed]"
     },
     "metadata": {},
     "output_type": "display_data",
     "jetTransient": {
      "display_id": null
     }
    },
    {
     "data": {
      "text/plain": [
       "<Figure size 600x600 with 2 Axes>"
      ],
      "image/png": "[encoded data removed]"
     },
     "metadata": {},
     "output_type": "display_data",
     "jetTransient": {
      "display_id": null
     }
    },
    {
     "data": {
      "text/plain": [
       "<Figure size 600x600 with 2 Axes>"
      ],
      "image/png": "[encoded data removed]"
     },
     "metadata": {},
     "output_type": "display_data",
     "jetTransient": {
      "display_id": null
     }
    }
   ],
   "execution_count": 33
  },
  {
   "metadata": {
    "ExecuteTime": {
     "end_time": "2025-10-05T20:44:01.759123Z",
     "start_time": "2025-10-05T20:44:01.735892Z"
    }
   },
   "cell_type": "code",
   "source": [
    "device = torch.device('cuda' if torch.cuda.is_available() else 'cpu')\n",
    "print(f\"Using device: {device}\")\n",
    "# Instantiate the model\n",
    "net = SimpleCNN(num_classes=10)\n",
    "net.to(device)\n",
    "criterion = nn.CrossEntropyLoss()\n",
    "optimizer = optim.SGD(net.parameters(), lr=0.001, momentum=0.9)"
   ],
   "id": "1262f5c8cda47087",
   "outputs": [
    {
     "name": "stdout",
     "output_type": "stream",
     "text": [
      "Using device: cuda\n"
     ]
    }
   ],
   "execution_count": 4
  },
  {
   "metadata": {},
   "cell_type": "markdown",
   "source": "Want to convert training loop to rank by cosine similiarity and do updates in the epoch on reconfigured batches from lowest to highest. Inspired by: Angles Don't Lie --https://arxiv.org/pdf/2506.02281",
   "id": "990939edff9bec6f"
  },
  {
   "metadata": {
    "ExecuteTime": {
     "end_time": "2025-10-05T20:07:00.586064Z",
     "start_time": "2025-10-05T20:07:00.571784Z"
    }
   },
   "cell_type": "code",
   "source": "",
   "id": "8182b330478016b",
   "outputs": [],
   "execution_count": 10
  },
  {
   "metadata": {
    "ExecuteTime": {
     "end_time": "2025-10-05T20:44:07.626586Z",
     "start_time": "2025-10-05T20:44:06.602200Z"
    }
   },
   "cell_type": "code",
   "source": [
    "# track training and loss\n",
    "acc = []\n",
    "loss = []\n",
    "\n",
    "cosine_similarity = nn.CosineSimilarity(dim=1)\n",
    "for epoch in range(1):  # loop over the dataset multiple times\n",
    "    running_loss = 0.0\n",
    "    running_accuracy = 0.0\n",
    "    num_batches = len(train_loader)\n",
    "    label_container = torch.tensor([], device=device, dtype=torch.long)\n",
    "    output_container = torch.tensor([], device=device)\n",
    "    for i, data in enumerate(train_loader, start=1):\n",
    "        # get the inputs\n",
    "        inputs, labels = data\n",
    "        inputs, labels = inputs.to(device), labels.to(device)\n",
    "\n",
    "        # zero the parameter gradients\n",
    "        optimizer.zero_grad()\n",
    "\n",
    "        # forward + backward + optimize\n",
    "        outputs = net(inputs)\n",
    "        # collect all outputs and labels for ranking prior to updating model\n",
    "        label_container = torch.cat((label_container, labels), dim=0)\n",
    "        output_container = torch.cat((output_container, outputs), dim=0)\n",
    "        if label_container.shape[0] == train_dataset.__len__():\n",
    "\n",
    "            # convert labels into vector for angle comparison\n",
    "            label_vector = torch.zeros_like(outputs).to(device)\n",
    "            for j in range(len(label_vector)):\n",
    "                label_vector[j][labels[j]] += 1.0\n",
    "            angles = cosine_similarity(output_container, label_vector)\n",
    "            order = np.argsort(angles.detach().cpu().numpy())\n",
    "            del angles\n",
    "            outputs_sorted = output_container[order]\n",
    "            labels_sorted = label_container[order]\n",
    "            del label_container\n",
    "            del output_container\n",
    "            # do the training steps\n",
    "            for k in range(num_batches):\n",
    "                loss = criterion(outputs_sorted[k*batch_size:(k+1)*batch_size], labels_sorted[k*batch_size:(k+1)*batch_size])\n",
    "                loss.backward()\n",
    "                optimizer.step()\n",
    "                # print statistics\n",
    "                running_loss += loss.item()\n",
    "                running_accuracy += (outputs.argmax(dim=1) == labels).float().mean().item()\n",
    "            # delete the containers\n",
    "            label_container = torch.tensor([], device=device, dtype=torch.long)\n",
    "            output_container = torch.tensor([], device=device)\n",
    "\n",
    "        #print(i)\n",
    "        if i % num_batches == 0:    # print every check mini-batches\n",
    "            print(f'Epoch: {epoch}\\nLoss: {running_loss / num_batches:.4f}\\nAccuracy: {running_accuracy / num_batches * 100:.2f}%\\n----------------')\n",
    "            acc.append(running_accuracy / num_batches * 100)\n",
    "            loss.append(running_loss / num_batches)\n",
    "            running_loss = 0.0\n",
    "            running_accuracy = 0.0"
   ],
   "id": "3834c73706f7dcef",
   "outputs": [
    {
     "ename": "OutOfMemoryError",
     "evalue": "CUDA out of memory. Tried to allocate 16.00 MiB. GPU 0 has a total capacity of 7.62 GiB of which 40.00 MiB is free. Including non-PyTorch memory, this process has 6.66 GiB memory in use. Of the allocated memory 6.44 GiB is allocated by PyTorch, and 42.56 MiB is reserved by PyTorch but unallocated. If reserved but unallocated memory is large try setting PYTORCH_CUDA_ALLOC_CONF=expandable_segments:True to avoid fragmentation.  See documentation for Memory Management  (https://pytorch.org/docs/stable/notes/cuda.html#environment-variables)",
     "output_type": "error",
     "traceback": [
      "\u001B[31m---------------------------------------------------------------------------\u001B[39m",
      "\u001B[31mOutOfMemoryError\u001B[39m                          Traceback (most recent call last)",
      "\u001B[36mCell\u001B[39m\u001B[36m \u001B[39m\u001B[32mIn[5]\u001B[39m\u001B[32m, line 21\u001B[39m\n\u001B[32m     18\u001B[39m optimizer.zero_grad()\n\u001B[32m     20\u001B[39m \u001B[38;5;66;03m# forward + backward + optimize\u001B[39;00m\n\u001B[32m---> \u001B[39m\u001B[32m21\u001B[39m outputs = \u001B[43mnet\u001B[49m\u001B[43m(\u001B[49m\u001B[43minputs\u001B[49m\u001B[43m)\u001B[49m\n\u001B[32m     22\u001B[39m \u001B[38;5;66;03m# collect all outputs and labels for ranking prior to updating model\u001B[39;00m\n\u001B[32m     23\u001B[39m label_container = torch.cat((label_container, labels), dim=\u001B[32m0\u001B[39m)\n",
      "\u001B[36mFile \u001B[39m\u001B[32m~/anaconda3/envs/explainable_ood/lib/python3.12/site-packages/torch/nn/modules/module.py:1736\u001B[39m, in \u001B[36mModule._wrapped_call_impl\u001B[39m\u001B[34m(self, *args, **kwargs)\u001B[39m\n\u001B[32m   1734\u001B[39m     \u001B[38;5;28;01mreturn\u001B[39;00m \u001B[38;5;28mself\u001B[39m._compiled_call_impl(*args, **kwargs)  \u001B[38;5;66;03m# type: ignore[misc]\u001B[39;00m\n\u001B[32m   1735\u001B[39m \u001B[38;5;28;01melse\u001B[39;00m:\n\u001B[32m-> \u001B[39m\u001B[32m1736\u001B[39m     \u001B[38;5;28;01mreturn\u001B[39;00m \u001B[38;5;28;43mself\u001B[39;49m\u001B[43m.\u001B[49m\u001B[43m_call_impl\u001B[49m\u001B[43m(\u001B[49m\u001B[43m*\u001B[49m\u001B[43margs\u001B[49m\u001B[43m,\u001B[49m\u001B[43m \u001B[49m\u001B[43m*\u001B[49m\u001B[43m*\u001B[49m\u001B[43mkwargs\u001B[49m\u001B[43m)\u001B[49m\n",
      "\u001B[36mFile \u001B[39m\u001B[32m~/anaconda3/envs/explainable_ood/lib/python3.12/site-packages/torch/nn/modules/module.py:1747\u001B[39m, in \u001B[36mModule._call_impl\u001B[39m\u001B[34m(self, *args, **kwargs)\u001B[39m\n\u001B[32m   1742\u001B[39m \u001B[38;5;66;03m# If we don't have any hooks, we want to skip the rest of the logic in\u001B[39;00m\n\u001B[32m   1743\u001B[39m \u001B[38;5;66;03m# this function, and just call forward.\u001B[39;00m\n\u001B[32m   1744\u001B[39m \u001B[38;5;28;01mif\u001B[39;00m \u001B[38;5;129;01mnot\u001B[39;00m (\u001B[38;5;28mself\u001B[39m._backward_hooks \u001B[38;5;129;01mor\u001B[39;00m \u001B[38;5;28mself\u001B[39m._backward_pre_hooks \u001B[38;5;129;01mor\u001B[39;00m \u001B[38;5;28mself\u001B[39m._forward_hooks \u001B[38;5;129;01mor\u001B[39;00m \u001B[38;5;28mself\u001B[39m._forward_pre_hooks\n\u001B[32m   1745\u001B[39m         \u001B[38;5;129;01mor\u001B[39;00m _global_backward_pre_hooks \u001B[38;5;129;01mor\u001B[39;00m _global_backward_hooks\n\u001B[32m   1746\u001B[39m         \u001B[38;5;129;01mor\u001B[39;00m _global_forward_hooks \u001B[38;5;129;01mor\u001B[39;00m _global_forward_pre_hooks):\n\u001B[32m-> \u001B[39m\u001B[32m1747\u001B[39m     \u001B[38;5;28;01mreturn\u001B[39;00m \u001B[43mforward_call\u001B[49m\u001B[43m(\u001B[49m\u001B[43m*\u001B[49m\u001B[43margs\u001B[49m\u001B[43m,\u001B[49m\u001B[43m \u001B[49m\u001B[43m*\u001B[49m\u001B[43m*\u001B[49m\u001B[43mkwargs\u001B[49m\u001B[43m)\u001B[49m\n\u001B[32m   1749\u001B[39m result = \u001B[38;5;28;01mNone\u001B[39;00m\n\u001B[32m   1750\u001B[39m called_always_called_hooks = \u001B[38;5;28mset\u001B[39m()\n",
      "\u001B[36mCell\u001B[39m\u001B[36m \u001B[39m\u001B[32mIn[3]\u001B[39m\u001B[32m, line 25\u001B[39m, in \u001B[36mSimpleCNN.forward\u001B[39m\u001B[34m(self, x)\u001B[39m\n\u001B[32m     24\u001B[39m \u001B[38;5;28;01mdef\u001B[39;00m\u001B[38;5;250m \u001B[39m\u001B[34mforward\u001B[39m(\u001B[38;5;28mself\u001B[39m, x):\n\u001B[32m---> \u001B[39m\u001B[32m25\u001B[39m     x = \u001B[38;5;28;43mself\u001B[39;49m\u001B[43m.\u001B[49m\u001B[43mfeatures\u001B[49m\u001B[43m(\u001B[49m\u001B[43mx\u001B[49m\u001B[43m)\u001B[49m\n\u001B[32m     26\u001B[39m     x = \u001B[38;5;28mself\u001B[39m.classifier(x)\n\u001B[32m     27\u001B[39m     \u001B[38;5;28;01mreturn\u001B[39;00m x\n",
      "\u001B[36mFile \u001B[39m\u001B[32m~/anaconda3/envs/explainable_ood/lib/python3.12/site-packages/torch/nn/modules/module.py:1736\u001B[39m, in \u001B[36mModule._wrapped_call_impl\u001B[39m\u001B[34m(self, *args, **kwargs)\u001B[39m\n\u001B[32m   1734\u001B[39m     \u001B[38;5;28;01mreturn\u001B[39;00m \u001B[38;5;28mself\u001B[39m._compiled_call_impl(*args, **kwargs)  \u001B[38;5;66;03m# type: ignore[misc]\u001B[39;00m\n\u001B[32m   1735\u001B[39m \u001B[38;5;28;01melse\u001B[39;00m:\n\u001B[32m-> \u001B[39m\u001B[32m1736\u001B[39m     \u001B[38;5;28;01mreturn\u001B[39;00m \u001B[38;5;28;43mself\u001B[39;49m\u001B[43m.\u001B[49m\u001B[43m_call_impl\u001B[49m\u001B[43m(\u001B[49m\u001B[43m*\u001B[49m\u001B[43margs\u001B[49m\u001B[43m,\u001B[49m\u001B[43m \u001B[49m\u001B[43m*\u001B[49m\u001B[43m*\u001B[49m\u001B[43mkwargs\u001B[49m\u001B[43m)\u001B[49m\n",
      "\u001B[36mFile \u001B[39m\u001B[32m~/anaconda3/envs/explainable_ood/lib/python3.12/site-packages/torch/nn/modules/module.py:1747\u001B[39m, in \u001B[36mModule._call_impl\u001B[39m\u001B[34m(self, *args, **kwargs)\u001B[39m\n\u001B[32m   1742\u001B[39m \u001B[38;5;66;03m# If we don't have any hooks, we want to skip the rest of the logic in\u001B[39;00m\n\u001B[32m   1743\u001B[39m \u001B[38;5;66;03m# this function, and just call forward.\u001B[39;00m\n\u001B[32m   1744\u001B[39m \u001B[38;5;28;01mif\u001B[39;00m \u001B[38;5;129;01mnot\u001B[39;00m (\u001B[38;5;28mself\u001B[39m._backward_hooks \u001B[38;5;129;01mor\u001B[39;00m \u001B[38;5;28mself\u001B[39m._backward_pre_hooks \u001B[38;5;129;01mor\u001B[39;00m \u001B[38;5;28mself\u001B[39m._forward_hooks \u001B[38;5;129;01mor\u001B[39;00m \u001B[38;5;28mself\u001B[39m._forward_pre_hooks\n\u001B[32m   1745\u001B[39m         \u001B[38;5;129;01mor\u001B[39;00m _global_backward_pre_hooks \u001B[38;5;129;01mor\u001B[39;00m _global_backward_hooks\n\u001B[32m   1746\u001B[39m         \u001B[38;5;129;01mor\u001B[39;00m _global_forward_hooks \u001B[38;5;129;01mor\u001B[39;00m _global_forward_pre_hooks):\n\u001B[32m-> \u001B[39m\u001B[32m1747\u001B[39m     \u001B[38;5;28;01mreturn\u001B[39;00m \u001B[43mforward_call\u001B[49m\u001B[43m(\u001B[49m\u001B[43m*\u001B[49m\u001B[43margs\u001B[49m\u001B[43m,\u001B[49m\u001B[43m \u001B[49m\u001B[43m*\u001B[49m\u001B[43m*\u001B[49m\u001B[43mkwargs\u001B[49m\u001B[43m)\u001B[49m\n\u001B[32m   1749\u001B[39m result = \u001B[38;5;28;01mNone\u001B[39;00m\n\u001B[32m   1750\u001B[39m called_always_called_hooks = \u001B[38;5;28mset\u001B[39m()\n",
      "\u001B[36mFile \u001B[39m\u001B[32m~/anaconda3/envs/explainable_ood/lib/python3.12/site-packages/torch/nn/modules/container.py:250\u001B[39m, in \u001B[36mSequential.forward\u001B[39m\u001B[34m(self, input)\u001B[39m\n\u001B[32m    248\u001B[39m \u001B[38;5;28;01mdef\u001B[39;00m\u001B[38;5;250m \u001B[39m\u001B[34mforward\u001B[39m(\u001B[38;5;28mself\u001B[39m, \u001B[38;5;28minput\u001B[39m):\n\u001B[32m    249\u001B[39m     \u001B[38;5;28;01mfor\u001B[39;00m module \u001B[38;5;129;01min\u001B[39;00m \u001B[38;5;28mself\u001B[39m:\n\u001B[32m--> \u001B[39m\u001B[32m250\u001B[39m         \u001B[38;5;28minput\u001B[39m = \u001B[43mmodule\u001B[49m\u001B[43m(\u001B[49m\u001B[38;5;28;43minput\u001B[39;49m\u001B[43m)\u001B[49m\n\u001B[32m    251\u001B[39m     \u001B[38;5;28;01mreturn\u001B[39;00m \u001B[38;5;28minput\u001B[39m\n",
      "\u001B[36mFile \u001B[39m\u001B[32m~/anaconda3/envs/explainable_ood/lib/python3.12/site-packages/torch/nn/modules/module.py:1736\u001B[39m, in \u001B[36mModule._wrapped_call_impl\u001B[39m\u001B[34m(self, *args, **kwargs)\u001B[39m\n\u001B[32m   1734\u001B[39m     \u001B[38;5;28;01mreturn\u001B[39;00m \u001B[38;5;28mself\u001B[39m._compiled_call_impl(*args, **kwargs)  \u001B[38;5;66;03m# type: ignore[misc]\u001B[39;00m\n\u001B[32m   1735\u001B[39m \u001B[38;5;28;01melse\u001B[39;00m:\n\u001B[32m-> \u001B[39m\u001B[32m1736\u001B[39m     \u001B[38;5;28;01mreturn\u001B[39;00m \u001B[38;5;28;43mself\u001B[39;49m\u001B[43m.\u001B[49m\u001B[43m_call_impl\u001B[49m\u001B[43m(\u001B[49m\u001B[43m*\u001B[49m\u001B[43margs\u001B[49m\u001B[43m,\u001B[49m\u001B[43m \u001B[49m\u001B[43m*\u001B[49m\u001B[43m*\u001B[49m\u001B[43mkwargs\u001B[49m\u001B[43m)\u001B[49m\n",
      "\u001B[36mFile \u001B[39m\u001B[32m~/anaconda3/envs/explainable_ood/lib/python3.12/site-packages/torch/nn/modules/module.py:1747\u001B[39m, in \u001B[36mModule._call_impl\u001B[39m\u001B[34m(self, *args, **kwargs)\u001B[39m\n\u001B[32m   1742\u001B[39m \u001B[38;5;66;03m# If we don't have any hooks, we want to skip the rest of the logic in\u001B[39;00m\n\u001B[32m   1743\u001B[39m \u001B[38;5;66;03m# this function, and just call forward.\u001B[39;00m\n\u001B[32m   1744\u001B[39m \u001B[38;5;28;01mif\u001B[39;00m \u001B[38;5;129;01mnot\u001B[39;00m (\u001B[38;5;28mself\u001B[39m._backward_hooks \u001B[38;5;129;01mor\u001B[39;00m \u001B[38;5;28mself\u001B[39m._backward_pre_hooks \u001B[38;5;129;01mor\u001B[39;00m \u001B[38;5;28mself\u001B[39m._forward_hooks \u001B[38;5;129;01mor\u001B[39;00m \u001B[38;5;28mself\u001B[39m._forward_pre_hooks\n\u001B[32m   1745\u001B[39m         \u001B[38;5;129;01mor\u001B[39;00m _global_backward_pre_hooks \u001B[38;5;129;01mor\u001B[39;00m _global_backward_hooks\n\u001B[32m   1746\u001B[39m         \u001B[38;5;129;01mor\u001B[39;00m _global_forward_hooks \u001B[38;5;129;01mor\u001B[39;00m _global_forward_pre_hooks):\n\u001B[32m-> \u001B[39m\u001B[32m1747\u001B[39m     \u001B[38;5;28;01mreturn\u001B[39;00m \u001B[43mforward_call\u001B[49m\u001B[43m(\u001B[49m\u001B[43m*\u001B[49m\u001B[43margs\u001B[49m\u001B[43m,\u001B[49m\u001B[43m \u001B[49m\u001B[43m*\u001B[49m\u001B[43m*\u001B[49m\u001B[43mkwargs\u001B[49m\u001B[43m)\u001B[49m\n\u001B[32m   1749\u001B[39m result = \u001B[38;5;28;01mNone\u001B[39;00m\n\u001B[32m   1750\u001B[39m called_always_called_hooks = \u001B[38;5;28mset\u001B[39m()\n",
      "\u001B[36mFile \u001B[39m\u001B[32m~/anaconda3/envs/explainable_ood/lib/python3.12/site-packages/torch/nn/modules/activation.py:133\u001B[39m, in \u001B[36mReLU.forward\u001B[39m\u001B[34m(self, input)\u001B[39m\n\u001B[32m    132\u001B[39m \u001B[38;5;28;01mdef\u001B[39;00m\u001B[38;5;250m \u001B[39m\u001B[34mforward\u001B[39m(\u001B[38;5;28mself\u001B[39m, \u001B[38;5;28minput\u001B[39m: Tensor) -> Tensor:\n\u001B[32m--> \u001B[39m\u001B[32m133\u001B[39m     \u001B[38;5;28;01mreturn\u001B[39;00m \u001B[43mF\u001B[49m\u001B[43m.\u001B[49m\u001B[43mrelu\u001B[49m\u001B[43m(\u001B[49m\u001B[38;5;28;43minput\u001B[39;49m\u001B[43m,\u001B[49m\u001B[43m \u001B[49m\u001B[43minplace\u001B[49m\u001B[43m=\u001B[49m\u001B[38;5;28;43mself\u001B[39;49m\u001B[43m.\u001B[49m\u001B[43minplace\u001B[49m\u001B[43m)\u001B[49m\n",
      "\u001B[36mFile \u001B[39m\u001B[32m~/anaconda3/envs/explainable_ood/lib/python3.12/site-packages/torch/nn/functional.py:1704\u001B[39m, in \u001B[36mrelu\u001B[39m\u001B[34m(input, inplace)\u001B[39m\n\u001B[32m   1702\u001B[39m     result = torch.relu_(\u001B[38;5;28minput\u001B[39m)\n\u001B[32m   1703\u001B[39m \u001B[38;5;28;01melse\u001B[39;00m:\n\u001B[32m-> \u001B[39m\u001B[32m1704\u001B[39m     result = \u001B[43mtorch\u001B[49m\u001B[43m.\u001B[49m\u001B[43mrelu\u001B[49m\u001B[43m(\u001B[49m\u001B[38;5;28;43minput\u001B[39;49m\u001B[43m)\u001B[49m\n\u001B[32m   1705\u001B[39m \u001B[38;5;28;01mreturn\u001B[39;00m result\n",
      "\u001B[31mOutOfMemoryError\u001B[39m: CUDA out of memory. Tried to allocate 16.00 MiB. GPU 0 has a total capacity of 7.62 GiB of which 40.00 MiB is free. Including non-PyTorch memory, this process has 6.66 GiB memory in use. Of the allocated memory 6.44 GiB is allocated by PyTorch, and 42.56 MiB is reserved by PyTorch but unallocated. If reserved but unallocated memory is large try setting PYTORCH_CUDA_ALLOC_CONF=expandable_segments:True to avoid fragmentation.  See documentation for Memory Management  (https://pytorch.org/docs/stable/notes/cuda.html#environment-variables)"
     ]
    }
   ],
   "execution_count": 5
  },
  {
   "metadata": {
    "ExecuteTime": {
     "end_time": "2025-10-05T20:25:18.346741Z",
     "start_time": "2025-10-05T20:25:18.328709Z"
    }
   },
   "cell_type": "code",
   "source": "label_container.shape[0] == train_dataset.__len__()",
   "id": "59def0ce3459af18",
   "outputs": [
    {
     "data": {
      "text/plain": [
       "True"
      ]
     },
     "execution_count": 35,
     "metadata": {},
     "output_type": "execute_result"
    }
   ],
   "execution_count": 35
  },
  {
   "metadata": {
    "ExecuteTime": {
     "end_time": "2025-10-05T20:25:19.133172Z",
     "start_time": "2025-10-05T20:25:19.119496Z"
    }
   },
   "cell_type": "code",
   "source": "output_container.shape",
   "id": "c23b0ae9e19ccdff",
   "outputs": [
    {
     "data": {
      "text/plain": [
       "torch.Size([50000, 10])"
      ]
     },
     "execution_count": 36,
     "metadata": {},
     "output_type": "execute_result"
    }
   ],
   "execution_count": 36
  },
  {
   "metadata": {
    "ExecuteTime": {
     "end_time": "2025-10-05T20:25:20.056803Z",
     "start_time": "2025-10-05T20:25:20.037880Z"
    }
   },
   "cell_type": "code",
   "source": "label_container.shape",
   "id": "22ebba8a48dfa6aa",
   "outputs": [
    {
     "data": {
      "text/plain": [
       "torch.Size([50000])"
      ]
     },
     "execution_count": 37,
     "metadata": {},
     "output_type": "execute_result"
    }
   ],
   "execution_count": 37
  },
  {
   "metadata": {
    "ExecuteTime": {
     "end_time": "2025-10-05T20:25:22.287669Z",
     "start_time": "2025-10-05T20:25:20.966605Z"
    }
   },
   "cell_type": "code",
   "source": [
    "label_vector = torch.zeros_like(output_container).to(device)\n",
    "for j in range(len(label_vector)):\n",
    "    label_vector[j][label_container[j]] += 1.0"
   ],
   "id": "cda9df3ecab16843",
   "outputs": [],
   "execution_count": 38
  },
  {
   "metadata": {
    "ExecuteTime": {
     "end_time": "2025-10-05T20:27:34.225900Z",
     "start_time": "2025-10-05T20:27:34.194665Z"
    }
   },
   "cell_type": "code",
   "source": "angles = cosine_similarity(output_container, label_vector)",
   "id": "1e0bb5537a3f734a",
   "outputs": [],
   "execution_count": 40
  },
  {
   "metadata": {
    "ExecuteTime": {
     "end_time": "2025-10-05T20:29:18.363350Z",
     "start_time": "2025-10-05T20:29:18.332662Z"
    }
   },
   "cell_type": "code",
   "source": "order = np.argsort(angles.detach().cpu().numpy())",
   "id": "f79706aec9bccf71",
   "outputs": [],
   "execution_count": 43
  },
  {
   "metadata": {
    "ExecuteTime": {
     "end_time": "2025-10-05T20:29:42.192329Z",
     "start_time": "2025-10-05T20:29:42.159920Z"
    }
   },
   "cell_type": "code",
   "source": "output_container[order]",
   "id": "5a2414cd08ded3ad",
   "outputs": [
    {
     "data": {
      "text/plain": [
       "tensor([[ 0.4391, -0.2090,  0.2405,  ..., -0.1127,  0.0138, -0.2520],\n",
       "        [ 0.5566,  0.2180,  0.0148,  ..., -0.0958,  0.1461,  0.3886],\n",
       "        [ 0.7560, -0.2151,  0.2920,  ...,  0.3213,  0.0394,  0.0269],\n",
       "        ...,\n",
       "        [-0.6092,  1.6787,  0.1727,  ..., -0.4324, -0.6341,  0.0801],\n",
       "        [-0.4947,  2.0012, -0.2714,  ..., -0.7265, -0.2945,  0.3851],\n",
       "        [-0.3690,  1.9553, -0.5027,  ..., -0.2271, -0.5554,  0.1403]],\n",
       "       device='cuda:0', grad_fn=<IndexBackward0>)"
      ]
     },
     "execution_count": 44,
     "metadata": {},
     "output_type": "execute_result"
    }
   ],
   "execution_count": 44
  },
  {
   "metadata": {
    "ExecuteTime": {
     "end_time": "2025-10-05T20:32:13.593272Z",
     "start_time": "2025-10-05T20:32:13.579619Z"
    }
   },
   "cell_type": "code",
   "source": "num_batches",
   "id": "bf9c551cd822121b",
   "outputs": [
    {
     "data": {
      "text/plain": [
       "400"
      ]
     },
     "execution_count": 45,
     "metadata": {},
     "output_type": "execute_result"
    }
   ],
   "execution_count": 45
  },
  {
   "metadata": {
    "ExecuteTime": {
     "end_time": "2025-10-05T20:32:17.544046Z",
     "start_time": "2025-10-05T20:32:17.529774Z"
    }
   },
   "cell_type": "code",
   "source": "batch_size",
   "id": "288a6a149c70afea",
   "outputs": [
    {
     "data": {
      "text/plain": [
       "125"
      ]
     },
     "execution_count": 46,
     "metadata": {},
     "output_type": "execute_result"
    }
   ],
   "execution_count": 46
  },
  {
   "metadata": {
    "ExecuteTime": {
     "end_time": "2025-10-05T20:34:01.919680Z",
     "start_time": "2025-10-05T20:34:01.892319Z"
    }
   },
   "cell_type": "code",
   "source": [
    "outputs_sorted = output_container[order]\n",
    "labels_sorted = label_container[order]"
   ],
   "id": "e2ffa12f9e7adc72",
   "outputs": [],
   "execution_count": 47
  },
  {
   "metadata": {
    "ExecuteTime": {
     "end_time": "2025-10-05T20:34:42.749864Z",
     "start_time": "2025-10-05T20:34:42.731194Z"
    }
   },
   "cell_type": "code",
   "source": [
    "for i in range(num_batches):\n",
    "    print(outputs_sorted[i*batch_size:(i+1)*batch_size].shape)"
   ],
   "id": "601d48c0c7187624",
   "outputs": [
    {
     "name": "stdout",
     "output_type": "stream",
     "text": [
      "torch.Size([125, 10])\n",
      "torch.Size([125, 10])\n",
      "torch.Size([125, 10])\n",
      "torch.Size([125, 10])\n",
      "torch.Size([125, 10])\n",
      "torch.Size([125, 10])\n",
      "torch.Size([125, 10])\n",
      "torch.Size([125, 10])\n",
      "torch.Size([125, 10])\n",
      "torch.Size([125, 10])\n",
      "torch.Size([125, 10])\n",
      "torch.Size([125, 10])\n",
      "torch.Size([125, 10])\n",
      "torch.Size([125, 10])\n",
      "torch.Size([125, 10])\n",
      "torch.Size([125, 10])\n",
      "torch.Size([125, 10])\n",
      "torch.Size([125, 10])\n",
      "torch.Size([125, 10])\n",
      "torch.Size([125, 10])\n",
      "torch.Size([125, 10])\n",
      "torch.Size([125, 10])\n",
      "torch.Size([125, 10])\n",
      "torch.Size([125, 10])\n",
      "torch.Size([125, 10])\n",
      "torch.Size([125, 10])\n",
      "torch.Size([125, 10])\n",
      "torch.Size([125, 10])\n",
      "torch.Size([125, 10])\n",
      "torch.Size([125, 10])\n",
      "torch.Size([125, 10])\n",
      "torch.Size([125, 10])\n",
      "torch.Size([125, 10])\n",
      "torch.Size([125, 10])\n",
      "torch.Size([125, 10])\n",
      "torch.Size([125, 10])\n",
      "torch.Size([125, 10])\n",
      "torch.Size([125, 10])\n",
      "torch.Size([125, 10])\n",
      "torch.Size([125, 10])\n",
      "torch.Size([125, 10])\n",
      "torch.Size([125, 10])\n",
      "torch.Size([125, 10])\n",
      "torch.Size([125, 10])\n",
      "torch.Size([125, 10])\n",
      "torch.Size([125, 10])\n",
      "torch.Size([125, 10])\n",
      "torch.Size([125, 10])\n",
      "torch.Size([125, 10])\n",
      "torch.Size([125, 10])\n",
      "torch.Size([125, 10])\n",
      "torch.Size([125, 10])\n",
      "torch.Size([125, 10])\n",
      "torch.Size([125, 10])\n",
      "torch.Size([125, 10])\n",
      "torch.Size([125, 10])\n",
      "torch.Size([125, 10])\n",
      "torch.Size([125, 10])\n",
      "torch.Size([125, 10])\n",
      "torch.Size([125, 10])\n",
      "torch.Size([125, 10])\n",
      "torch.Size([125, 10])\n",
      "torch.Size([125, 10])\n",
      "torch.Size([125, 10])\n",
      "torch.Size([125, 10])\n",
      "torch.Size([125, 10])\n",
      "torch.Size([125, 10])\n",
      "torch.Size([125, 10])\n",
      "torch.Size([125, 10])\n",
      "torch.Size([125, 10])\n",
      "torch.Size([125, 10])\n",
      "torch.Size([125, 10])\n",
      "torch.Size([125, 10])\n",
      "torch.Size([125, 10])\n",
      "torch.Size([125, 10])\n",
      "torch.Size([125, 10])\n",
      "torch.Size([125, 10])\n",
      "torch.Size([125, 10])\n",
      "torch.Size([125, 10])\n",
      "torch.Size([125, 10])\n",
      "torch.Size([125, 10])\n",
      "torch.Size([125, 10])\n",
      "torch.Size([125, 10])\n",
      "torch.Size([125, 10])\n",
      "torch.Size([125, 10])\n",
      "torch.Size([125, 10])\n",
      "torch.Size([125, 10])\n",
      "torch.Size([125, 10])\n",
      "torch.Size([125, 10])\n",
      "torch.Size([125, 10])\n",
      "torch.Size([125, 10])\n",
      "torch.Size([125, 10])\n",
      "torch.Size([125, 10])\n",
      "torch.Size([125, 10])\n",
      "torch.Size([125, 10])\n",
      "torch.Size([125, 10])\n",
      "torch.Size([125, 10])\n",
      "torch.Size([125, 10])\n",
      "torch.Size([125, 10])\n",
      "torch.Size([125, 10])\n",
      "torch.Size([125, 10])\n",
      "torch.Size([125, 10])\n",
      "torch.Size([125, 10])\n",
      "torch.Size([125, 10])\n",
      "torch.Size([125, 10])\n",
      "torch.Size([125, 10])\n",
      "torch.Size([125, 10])\n",
      "torch.Size([125, 10])\n",
      "torch.Size([125, 10])\n",
      "torch.Size([125, 10])\n",
      "torch.Size([125, 10])\n",
      "torch.Size([125, 10])\n",
      "torch.Size([125, 10])\n",
      "torch.Size([125, 10])\n",
      "torch.Size([125, 10])\n",
      "torch.Size([125, 10])\n",
      "torch.Size([125, 10])\n",
      "torch.Size([125, 10])\n",
      "torch.Size([125, 10])\n",
      "torch.Size([125, 10])\n",
      "torch.Size([125, 10])\n",
      "torch.Size([125, 10])\n",
      "torch.Size([125, 10])\n",
      "torch.Size([125, 10])\n",
      "torch.Size([125, 10])\n",
      "torch.Size([125, 10])\n",
      "torch.Size([125, 10])\n",
      "torch.Size([125, 10])\n",
      "torch.Size([125, 10])\n",
      "torch.Size([125, 10])\n",
      "torch.Size([125, 10])\n",
      "torch.Size([125, 10])\n",
      "torch.Size([125, 10])\n",
      "torch.Size([125, 10])\n",
      "torch.Size([125, 10])\n",
      "torch.Size([125, 10])\n",
      "torch.Size([125, 10])\n",
      "torch.Size([125, 10])\n",
      "torch.Size([125, 10])\n",
      "torch.Size([125, 10])\n",
      "torch.Size([125, 10])\n",
      "torch.Size([125, 10])\n",
      "torch.Size([125, 10])\n",
      "torch.Size([125, 10])\n",
      "torch.Size([125, 10])\n",
      "torch.Size([125, 10])\n",
      "torch.Size([125, 10])\n",
      "torch.Size([125, 10])\n",
      "torch.Size([125, 10])\n",
      "torch.Size([125, 10])\n",
      "torch.Size([125, 10])\n",
      "torch.Size([125, 10])\n",
      "torch.Size([125, 10])\n",
      "torch.Size([125, 10])\n",
      "torch.Size([125, 10])\n",
      "torch.Size([125, 10])\n",
      "torch.Size([125, 10])\n",
      "torch.Size([125, 10])\n",
      "torch.Size([125, 10])\n",
      "torch.Size([125, 10])\n",
      "torch.Size([125, 10])\n",
      "torch.Size([125, 10])\n",
      "torch.Size([125, 10])\n",
      "torch.Size([125, 10])\n",
      "torch.Size([125, 10])\n",
      "torch.Size([125, 10])\n",
      "torch.Size([125, 10])\n",
      "torch.Size([125, 10])\n",
      "torch.Size([125, 10])\n",
      "torch.Size([125, 10])\n",
      "torch.Size([125, 10])\n",
      "torch.Size([125, 10])\n",
      "torch.Size([125, 10])\n",
      "torch.Size([125, 10])\n",
      "torch.Size([125, 10])\n",
      "torch.Size([125, 10])\n",
      "torch.Size([125, 10])\n",
      "torch.Size([125, 10])\n",
      "torch.Size([125, 10])\n",
      "torch.Size([125, 10])\n",
      "torch.Size([125, 10])\n",
      "torch.Size([125, 10])\n",
      "torch.Size([125, 10])\n",
      "torch.Size([125, 10])\n",
      "torch.Size([125, 10])\n",
      "torch.Size([125, 10])\n",
      "torch.Size([125, 10])\n",
      "torch.Size([125, 10])\n",
      "torch.Size([125, 10])\n",
      "torch.Size([125, 10])\n",
      "torch.Size([125, 10])\n",
      "torch.Size([125, 10])\n",
      "torch.Size([125, 10])\n",
      "torch.Size([125, 10])\n",
      "torch.Size([125, 10])\n",
      "torch.Size([125, 10])\n",
      "torch.Size([125, 10])\n",
      "torch.Size([125, 10])\n",
      "torch.Size([125, 10])\n",
      "torch.Size([125, 10])\n",
      "torch.Size([125, 10])\n",
      "torch.Size([125, 10])\n",
      "torch.Size([125, 10])\n",
      "torch.Size([125, 10])\n",
      "torch.Size([125, 10])\n",
      "torch.Size([125, 10])\n",
      "torch.Size([125, 10])\n",
      "torch.Size([125, 10])\n",
      "torch.Size([125, 10])\n",
      "torch.Size([125, 10])\n",
      "torch.Size([125, 10])\n",
      "torch.Size([125, 10])\n",
      "torch.Size([125, 10])\n",
      "torch.Size([125, 10])\n",
      "torch.Size([125, 10])\n",
      "torch.Size([125, 10])\n",
      "torch.Size([125, 10])\n",
      "torch.Size([125, 10])\n",
      "torch.Size([125, 10])\n",
      "torch.Size([125, 10])\n",
      "torch.Size([125, 10])\n",
      "torch.Size([125, 10])\n",
      "torch.Size([125, 10])\n",
      "torch.Size([125, 10])\n",
      "torch.Size([125, 10])\n",
      "torch.Size([125, 10])\n",
      "torch.Size([125, 10])\n",
      "torch.Size([125, 10])\n",
      "torch.Size([125, 10])\n",
      "torch.Size([125, 10])\n",
      "torch.Size([125, 10])\n",
      "torch.Size([125, 10])\n",
      "torch.Size([125, 10])\n",
      "torch.Size([125, 10])\n",
      "torch.Size([125, 10])\n",
      "torch.Size([125, 10])\n",
      "torch.Size([125, 10])\n",
      "torch.Size([125, 10])\n",
      "torch.Size([125, 10])\n",
      "torch.Size([125, 10])\n",
      "torch.Size([125, 10])\n",
      "torch.Size([125, 10])\n",
      "torch.Size([125, 10])\n",
      "torch.Size([125, 10])\n",
      "torch.Size([125, 10])\n",
      "torch.Size([125, 10])\n",
      "torch.Size([125, 10])\n",
      "torch.Size([125, 10])\n",
      "torch.Size([125, 10])\n",
      "torch.Size([125, 10])\n",
      "torch.Size([125, 10])\n",
      "torch.Size([125, 10])\n",
      "torch.Size([125, 10])\n",
      "torch.Size([125, 10])\n",
      "torch.Size([125, 10])\n",
      "torch.Size([125, 10])\n",
      "torch.Size([125, 10])\n",
      "torch.Size([125, 10])\n",
      "torch.Size([125, 10])\n",
      "torch.Size([125, 10])\n",
      "torch.Size([125, 10])\n",
      "torch.Size([125, 10])\n",
      "torch.Size([125, 10])\n",
      "torch.Size([125, 10])\n",
      "torch.Size([125, 10])\n",
      "torch.Size([125, 10])\n",
      "torch.Size([125, 10])\n",
      "torch.Size([125, 10])\n",
      "torch.Size([125, 10])\n",
      "torch.Size([125, 10])\n",
      "torch.Size([125, 10])\n",
      "torch.Size([125, 10])\n",
      "torch.Size([125, 10])\n",
      "torch.Size([125, 10])\n",
      "torch.Size([125, 10])\n",
      "torch.Size([125, 10])\n",
      "torch.Size([125, 10])\n",
      "torch.Size([125, 10])\n",
      "torch.Size([125, 10])\n",
      "torch.Size([125, 10])\n",
      "torch.Size([125, 10])\n",
      "torch.Size([125, 10])\n",
      "torch.Size([125, 10])\n",
      "torch.Size([125, 10])\n",
      "torch.Size([125, 10])\n",
      "torch.Size([125, 10])\n",
      "torch.Size([125, 10])\n",
      "torch.Size([125, 10])\n",
      "torch.Size([125, 10])\n",
      "torch.Size([125, 10])\n",
      "torch.Size([125, 10])\n",
      "torch.Size([125, 10])\n",
      "torch.Size([125, 10])\n",
      "torch.Size([125, 10])\n",
      "torch.Size([125, 10])\n",
      "torch.Size([125, 10])\n",
      "torch.Size([125, 10])\n",
      "torch.Size([125, 10])\n",
      "torch.Size([125, 10])\n",
      "torch.Size([125, 10])\n",
      "torch.Size([125, 10])\n",
      "torch.Size([125, 10])\n",
      "torch.Size([125, 10])\n",
      "torch.Size([125, 10])\n",
      "torch.Size([125, 10])\n",
      "torch.Size([125, 10])\n",
      "torch.Size([125, 10])\n",
      "torch.Size([125, 10])\n",
      "torch.Size([125, 10])\n",
      "torch.Size([125, 10])\n",
      "torch.Size([125, 10])\n",
      "torch.Size([125, 10])\n",
      "torch.Size([125, 10])\n",
      "torch.Size([125, 10])\n",
      "torch.Size([125, 10])\n",
      "torch.Size([125, 10])\n",
      "torch.Size([125, 10])\n",
      "torch.Size([125, 10])\n",
      "torch.Size([125, 10])\n",
      "torch.Size([125, 10])\n",
      "torch.Size([125, 10])\n",
      "torch.Size([125, 10])\n",
      "torch.Size([125, 10])\n",
      "torch.Size([125, 10])\n",
      "torch.Size([125, 10])\n",
      "torch.Size([125, 10])\n",
      "torch.Size([125, 10])\n",
      "torch.Size([125, 10])\n",
      "torch.Size([125, 10])\n",
      "torch.Size([125, 10])\n",
      "torch.Size([125, 10])\n",
      "torch.Size([125, 10])\n",
      "torch.Size([125, 10])\n",
      "torch.Size([125, 10])\n",
      "torch.Size([125, 10])\n",
      "torch.Size([125, 10])\n",
      "torch.Size([125, 10])\n",
      "torch.Size([125, 10])\n",
      "torch.Size([125, 10])\n",
      "torch.Size([125, 10])\n",
      "torch.Size([125, 10])\n",
      "torch.Size([125, 10])\n",
      "torch.Size([125, 10])\n",
      "torch.Size([125, 10])\n",
      "torch.Size([125, 10])\n",
      "torch.Size([125, 10])\n",
      "torch.Size([125, 10])\n",
      "torch.Size([125, 10])\n",
      "torch.Size([125, 10])\n",
      "torch.Size([125, 10])\n",
      "torch.Size([125, 10])\n",
      "torch.Size([125, 10])\n",
      "torch.Size([125, 10])\n",
      "torch.Size([125, 10])\n",
      "torch.Size([125, 10])\n",
      "torch.Size([125, 10])\n",
      "torch.Size([125, 10])\n",
      "torch.Size([125, 10])\n",
      "torch.Size([125, 10])\n",
      "torch.Size([125, 10])\n",
      "torch.Size([125, 10])\n",
      "torch.Size([125, 10])\n",
      "torch.Size([125, 10])\n",
      "torch.Size([125, 10])\n",
      "torch.Size([125, 10])\n",
      "torch.Size([125, 10])\n",
      "torch.Size([125, 10])\n",
      "torch.Size([125, 10])\n",
      "torch.Size([125, 10])\n",
      "torch.Size([125, 10])\n",
      "torch.Size([125, 10])\n",
      "torch.Size([125, 10])\n",
      "torch.Size([125, 10])\n",
      "torch.Size([125, 10])\n",
      "torch.Size([125, 10])\n",
      "torch.Size([125, 10])\n",
      "torch.Size([125, 10])\n",
      "torch.Size([125, 10])\n",
      "torch.Size([125, 10])\n",
      "torch.Size([125, 10])\n",
      "torch.Size([125, 10])\n",
      "torch.Size([125, 10])\n",
      "torch.Size([125, 10])\n",
      "torch.Size([125, 10])\n",
      "torch.Size([125, 10])\n",
      "torch.Size([125, 10])\n",
      "torch.Size([125, 10])\n",
      "torch.Size([125, 10])\n",
      "torch.Size([125, 10])\n",
      "torch.Size([125, 10])\n",
      "torch.Size([125, 10])\n",
      "torch.Size([125, 10])\n",
      "torch.Size([125, 10])\n",
      "torch.Size([125, 10])\n",
      "torch.Size([125, 10])\n",
      "torch.Size([125, 10])\n",
      "torch.Size([125, 10])\n",
      "torch.Size([125, 10])\n",
      "torch.Size([125, 10])\n",
      "torch.Size([125, 10])\n"
     ]
    }
   ],
   "execution_count": 48
  },
  {
   "metadata": {
    "ExecuteTime": {
     "end_time": "2025-10-05T20:08:49.754367Z",
     "start_time": "2025-10-05T20:08:49.729577Z"
    }
   },
   "cell_type": "code",
   "source": [
    "cont = torch.zeros_like(outputs)\n",
    "cont"
   ],
   "id": "79c97ef9c905842e",
   "outputs": [
    {
     "data": {
      "text/plain": [
       "tensor([[0., 0., 0.,  ..., 0., 0., 0.],\n",
       "        [0., 0., 0.,  ..., 0., 0., 0.],\n",
       "        [0., 0., 0.,  ..., 0., 0., 0.],\n",
       "        ...,\n",
       "        [0., 0., 0.,  ..., 0., 0., 0.],\n",
       "        [0., 0., 0.,  ..., 0., 0., 0.],\n",
       "        [0., 0., 0.,  ..., 0., 0., 0.]], device='cuda:0')"
      ]
     },
     "execution_count": 13,
     "metadata": {},
     "output_type": "execute_result"
    }
   ],
   "execution_count": 13
  },
  {
   "metadata": {
    "ExecuteTime": {
     "end_time": "2025-10-05T20:09:37.106243Z",
     "start_time": "2025-10-05T20:09:37.066757Z"
    }
   },
   "cell_type": "code",
   "source": [
    "for i in range(len(cont)):\n",
    "    cont[i][labels[i]] += 1.0"
   ],
   "id": "925dce19dfba1790",
   "outputs": [],
   "execution_count": 14
  },
  {
   "metadata": {
    "ExecuteTime": {
     "end_time": "2025-10-05T20:09:39.988591Z",
     "start_time": "2025-10-05T20:09:39.971648Z"
    }
   },
   "cell_type": "code",
   "source": "cont",
   "id": "ff95b6b05ec7c83f",
   "outputs": [
    {
     "data": {
      "text/plain": [
       "tensor([[0., 1., 0.,  ..., 0., 0., 0.],\n",
       "        [0., 0., 0.,  ..., 0., 1., 0.],\n",
       "        [0., 0., 1.,  ..., 0., 0., 0.],\n",
       "        ...,\n",
       "        [0., 0., 0.,  ..., 0., 0., 1.],\n",
       "        [0., 1., 0.,  ..., 0., 0., 0.],\n",
       "        [0., 1., 0.,  ..., 0., 0., 0.]], device='cuda:0')"
      ]
     },
     "execution_count": 15,
     "metadata": {},
     "output_type": "execute_result"
    }
   ],
   "execution_count": 15
  },
  {
   "metadata": {
    "ExecuteTime": {
     "end_time": "2025-10-05T20:10:17.163148Z",
     "start_time": "2025-10-05T20:10:17.146498Z"
    }
   },
   "cell_type": "code",
   "source": "cosine_similarity(outputs, cont)",
   "id": "87f7c4df59a099b3",
   "outputs": [
    {
     "data": {
      "text/plain": [
       "tensor([ 0.1366,  0.1858, -0.2225,  0.5976,  0.6404,  0.5793, -0.2504,  0.2168,\n",
       "        -0.1392,  0.3693,  0.1488,  0.0535,  0.4582, -0.0711,  0.4801, -0.2897,\n",
       "         0.2346,  0.3594,  0.2063,  0.2191,  0.1764, -0.1689,  0.3341,  0.2271,\n",
       "         0.1195, -0.2138, -0.2211,  0.1054,  0.1023,  0.1963,  0.4122,  0.1680,\n",
       "         0.2229,  0.6110,  0.4236,  0.3714, -0.1202, -0.0490,  0.2215, -0.2782,\n",
       "         0.3965,  0.2040,  0.4807, -0.0596,  0.3464, -0.2371,  0.5867, -0.0646,\n",
       "         0.2454,  0.3108, -0.2055,  0.6166,  0.3173,  0.3491, -0.4238,  0.2336,\n",
       "         0.6060,  0.3610,  0.1178, -0.0326, -0.0622,  0.3939,  0.0455,  0.2815,\n",
       "         0.2557,  0.2355,  0.2452, -0.2257,  0.1150, -0.2241,  0.3765,  0.1698,\n",
       "        -0.3449,  0.3871,  0.3534,  0.1994,  0.1326, -0.4123, -0.4738,  0.1884,\n",
       "         0.1923, -0.1199, -0.2615,  0.2354,  0.2526,  0.3501,  0.1943,  0.3832,\n",
       "        -0.0239,  0.4500, -0.0269,  0.3992, -0.5087,  0.4096, -0.2466, -0.1627,\n",
       "         0.6011, -0.2351,  0.3454, -0.4531, -0.1740, -0.5212,  0.1675,  0.2004,\n",
       "         0.1600,  0.3343,  0.1421,  0.1873,  0.2532,  0.1515,  0.4102,  0.2835,\n",
       "        -0.0798, -0.2342, -0.0857, -0.4473, -0.3483, -0.0781,  0.2963,  0.2047,\n",
       "        -0.1668,  0.0158,  0.6102,  0.1593,  0.2251], device='cuda:0',\n",
       "       grad_fn=<SumBackward1>)"
      ]
     },
     "execution_count": 18,
     "metadata": {},
     "output_type": "execute_result"
    }
   ],
   "execution_count": 18
  },
  {
   "metadata": {
    "ExecuteTime": {
     "end_time": "2025-10-05T20:11:02.425365Z",
     "start_time": "2025-10-05T20:11:02.409587Z"
    }
   },
   "cell_type": "code",
   "source": "outputs.argmax(dim=1) == labels",
   "id": "ebe16dd6436507a3",
   "outputs": [
    {
     "data": {
      "text/plain": [
       "tensor([False, False, False,  True,  True,  True, False,  True, False,  True,\n",
       "        False, False,  True, False,  True, False, False,  True, False, False,\n",
       "        False, False, False, False, False, False, False, False, False, False,\n",
       "        False, False, False,  True,  True, False, False, False, False, False,\n",
       "         True, False,  True, False,  True, False,  True, False,  True, False,\n",
       "        False,  True, False, False, False, False,  True, False, False, False,\n",
       "        False, False, False,  True, False, False, False, False, False, False,\n",
       "        False, False, False,  True,  True, False, False, False, False, False,\n",
       "        False, False, False, False, False, False, False,  True, False,  True,\n",
       "        False,  True, False, False, False, False,  True, False, False, False,\n",
       "        False, False, False, False, False, False, False, False, False, False,\n",
       "        False, False, False, False, False, False, False, False, False, False,\n",
       "        False, False,  True, False, False], device='cuda:0')"
      ]
     },
     "execution_count": 20,
     "metadata": {},
     "output_type": "execute_result"
    }
   ],
   "execution_count": 20
  },
  {
   "metadata": {},
   "cell_type": "code",
   "outputs": [],
   "execution_count": null,
   "source": "",
   "id": "b3edb24528b0abb2"
  }
 ],
 "metadata": {
  "kernelspec": {
   "name": "python3",
   "language": "python",
   "display_name": "Python 3 (ipykernel)"
  }
 },
 "nbformat": 4,
 "nbformat_minor": 5
}
